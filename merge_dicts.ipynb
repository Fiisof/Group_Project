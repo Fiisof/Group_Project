{
 "cells": [
  {
   "cell_type": "code",
   "execution_count": 25,
   "id": "389673ef",
   "metadata": {},
   "outputs": [],
   "source": [
    "# Dictionary merge write a python function called '' that takes two dictionaries as input and prints a new dictionary\n",
    "# containing all the key-value pairs from both dictionaries. If there are common keys, the value from the second dictionary\n",
    "# should overwrite the value from the first dictionary"
   ]
  },
  {
   "cell_type": "markdown",
   "id": "1947ecda",
   "metadata": {},
   "source": [
    "## Hardcoded Version"
   ]
  },
  {
   "cell_type": "code",
   "execution_count": 14,
   "id": "5a8b2b36",
   "metadata": {},
   "outputs": [
    {
     "name": "stdout",
     "output_type": "stream",
     "text": [
      "{'a': 1, 'b': 3, 'c': 4}\n"
     ]
    }
   ],
   "source": [
    "def Merge(dict1, dict2):\n",
    "    return(dict1.update(dict2))\n",
    "\n",
    "dict1 = {\"a\":1, \"b\":2}\n",
    "dict2 = {\"b\":3, \"c\":4}\n",
    "\n",
    "Merge(dict1,dict2)\n",
    "\n",
    "print(dict1)"
   ]
  },
  {
   "cell_type": "markdown",
   "id": "6073bcb5",
   "metadata": {},
   "source": [
    "## Accepts User Inputs"
   ]
  },
  {
   "cell_type": "code",
   "execution_count": 12,
   "id": "a396483b",
   "metadata": {},
   "outputs": [
    {
     "name": "stdout",
     "output_type": "stream",
     "text": [
      "Please enter the number of values for the first dictionary\n",
      "2\n",
      "3\n",
      "Key for the dictionary: a\n",
      "Value binded to the key: 1\n",
      "Key for the dictionary: b\n",
      "Value binded to the key: 2\n",
      "Key for the dictionary: c\n",
      "Value binded to the key: 3\n",
      "Key for the dictionary: a\n",
      "Value binded to the key: 6\n",
      "Key for the dictionary: d\n",
      "Value binded to the key: 10\n",
      "{'a': '6', 'b': '2', 'c': '3', 'd': '10'}\n"
     ]
    }
   ],
   "source": [
    "def Merge(dictA, dictB):\n",
    "    return(dictA.update(dictB))\n",
    "\n",
    "print('Please enter the number of values for the first dictionary')\n",
    "n = input()\n",
    "m = input()\n",
    "n = int(n)\n",
    "m = int(m)\n",
    "\n",
    "dictA = {}\n",
    "dictB = {}\n",
    "def inputDictA(n,m):\n",
    "    dictA = {}\n",
    "    dictB = {}\n",
    "    for i in range(n):\n",
    "        key = input(\"Key for the dictionary: \")\n",
    "        value = input(\"Value binded to the key: \")\n",
    "        dictA[key] = value\n",
    "        \n",
    "    for i in range(m):\n",
    "        key = input(\"Key for the dictionary: \")\n",
    "        value = input(\"Value binded to the key: \")\n",
    "        dictB[key] = value\n",
    "        \n",
    "#     print(\"DictA:\", dictA)\n",
    "#     print(\"DictB:\", dictB)\n",
    "\n",
    "    Merge(dictA,dictB)\n",
    "    print(\"Merged dictionaries:\",dictA)\n",
    "\n",
    "inputDictA(n,m)"
   ]
  }
 ],
 "metadata": {
  "kernelspec": {
   "display_name": "Python 3 (ipykernel)",
   "language": "python",
   "name": "python3"
  },
  "language_info": {
   "codemirror_mode": {
    "name": "ipython",
    "version": 3
   },
   "file_extension": ".py",
   "mimetype": "text/x-python",
   "name": "python",
   "nbconvert_exporter": "python",
   "pygments_lexer": "ipython3",
   "version": "3.9.7"
  }
 },
 "nbformat": 4,
 "nbformat_minor": 5
}
