{
 "cells": [
  {
   "cell_type": "code",
   "execution_count": 1,
   "id": "5ceb5d96",
   "metadata": {},
   "outputs": [],
   "source": [
    "# list comprehension write a python function called '' that takes list of integers as input and returns a new list\n",
    "# containing the squares of only even numbers from the original list. For example, if the input is [1,2,3,4,5,6],\n",
    "# the function should return [4,16,36]"
   ]
  },
  {
   "cell_type": "code",
   "execution_count": 24,
   "id": "e73e77d7",
   "metadata": {},
   "outputs": [
    {
     "name": "stdout",
     "output_type": "stream",
     "text": [
      "[4, 16, 36]\n"
     ]
    }
   ],
   "source": [
    "list_int = [1,2,3,4,5,6]\n",
    "list_sqr = []\n",
    "\n",
    "for i in range(len(list_int)):\n",
    "    if list_int[i]%2==0:\n",
    "        list_sqr = list_sqr + [list_int[i]*list_int[i]]\n",
    "        \n",
    "print(list_sqr)"
   ]
  },
  {
   "cell_type": "code",
   "execution_count": 25,
   "id": "389673ef",
   "metadata": {},
   "outputs": [],
   "source": [
    "# Dictionary merge write a python function called '' that takes two dictionaries as input and prints a new dictionary\n",
    "# containing all the key-value pairs from both dictionaries. If there are common keys, the value from the second dictionary\n",
    "# should overwrite the value from the first dictionary"
   ]
  },
  {
   "cell_type": "code",
   "execution_count": 33,
   "id": "5a8b2b36",
   "metadata": {},
   "outputs": [
    {
     "name": "stdout",
     "output_type": "stream",
     "text": [
      "{'a': 1, 'b': 3, 'c': 4}\n"
     ]
    }
   ],
   "source": [
    "def Merge(dict1, dict2):\n",
    "    return(dict1.update(dict2))\n",
    "\n",
    "dict1 = {\"a\":1, \"b\":2}\n",
    "dict2 = {\"b\":3, \"c\":4}\n",
    "\n",
    "Merge(dict1,dict2)\n",
    "\n",
    "print(dict1)"
   ]
  },
  {
   "cell_type": "code",
   "execution_count": null,
   "id": "0fc24968",
   "metadata": {},
   "outputs": [],
   "source": []
  }
 ],
 "metadata": {
  "kernelspec": {
   "display_name": "Python 3 (ipykernel)",
   "language": "python",
   "name": "python3"
  },
  "language_info": {
   "codemirror_mode": {
    "name": "ipython",
    "version": 3
   },
   "file_extension": ".py",
   "mimetype": "text/x-python",
   "name": "python",
   "nbconvert_exporter": "python",
   "pygments_lexer": "ipython3",
   "version": "3.9.7"
  }
 },
 "nbformat": 4,
 "nbformat_minor": 5
}
